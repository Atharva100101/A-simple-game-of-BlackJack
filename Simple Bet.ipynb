{
 "cells": [
  {
   "cell_type": "code",
   "execution_count": null,
   "id": "ab8c5837",
   "metadata": {},
   "outputs": [],
   "source": [
    "import os\n",
    "betting={}\n",
    "result=''\n",
    "is_still_beeting=False\n",
    "def have_beeting(betting_detail):\n",
    "    high_score=0\n",
    "    for bet in betting:\n",
    "        chance=betting[bet]\n",
    "        if chance>high_score:\n",
    "            high_score=chance\n",
    "            result=bet\n",
    "            \n",
    "    print(f'The highest bet is {high_score} and is by {result} ')\n",
    "            \n",
    "while not is_still_beeting:\n",
    "    name=input('Enter the name: ')\n",
    "    money=int(input('Enter the amount you want to bet: $ '))\n",
    "    betting[name]=money\n",
    "    option=input('Enter whether you want to play again: ')\n",
    "    if option=='yes':\n",
    "        os.system('csr')\n",
    "    else:\n",
    "        is_still_beeting=False\n",
    "        have_beeting(betting)\n",
    "        break\n",
    "        \n"
   ]
  }
 ],
 "metadata": {
  "kernelspec": {
   "display_name": "Python 3 (ipykernel)",
   "language": "python",
   "name": "python3"
  },
  "language_info": {
   "codemirror_mode": {
    "name": "ipython",
    "version": 3
   },
   "file_extension": ".py",
   "mimetype": "text/x-python",
   "name": "python",
   "nbconvert_exporter": "python",
   "pygments_lexer": "ipython3",
   "version": "3.9.7"
  }
 },
 "nbformat": 4,
 "nbformat_minor": 5
}
